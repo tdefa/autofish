{
 "cells": [
  {
   "cell_type": "markdown",
   "metadata": {},
   "source": [
    "# Files preprocessing \n",
    "\n",
    "The first step to anaylse experiments from autoFISH is to transform the  NDTiffStack files into tiff files.\n",
    "\n",
    "The tiff files will be saved as a set of folders of tiff files order per round, position and channel as follow.\n",
    "\n"
   ],
   "id": "f45d7a9e96f3f8c3"
  },
  {
   "cell_type": "markdown",
   "metadata": {},
   "source": [
    "└── main_folder\\\n",
    "    ├── r0\\\n",
    "    │   ├── r0_pos0_ch0.tif\\\n",
    "    │   ├── r0_pos0_ch1.tif\\\n",
    "    │   ├── r0_pos1_ch0.tif\\\n",
    "    │   ├── r0_pos1_ch1.tif\\\n",
    "    │   ├── r0_pos2_ch0.tif\\\n",
    "    │   └── r0_pos2_ch1.tif\\\n",
    "    ├── r1\\\n",
    "    ...\\\n",
    "    ...\\\n",
    "    |\\\n",
    "    ├── rN\\\n",
    "    │   ├── rN_pos0_ch0.tif\\\n",
    "    │   ├── rN_pos0_ch1.tif\\\n",
    "    │   ├── rN_pos1_ch0.tif\\\n",
    "    │   ├── rN_pos1_ch1.tif\\\n",
    "    │   ├── rN_pos2_ch0.tif\\\n",
    "    │   └── rN_pos2_ch1.tif\\\n"
   ],
   "id": "ebdf1c163f2bfc13"
  },
  {
   "cell_type": "code",
   "execution_count": 1,
   "metadata": {},
   "source": [
    "\n",
    "\n",
    "# Path to main folder containing the round folder of NDTiffStack\n",
    "path_parent='/media/tom/Transcend/autofish_test_input_stitching/' \n",
    "\n",
    "n_z=33  # number of z stack\n",
    "n_pos=3  # number of field of images\n",
    "\n",
    "# Number of channels\n",
    "n_c_default=1 ## default number of channel\n",
    "\n",
    "## add round that have a different number of channel like additional DAPI staining\n",
    "n_c_dict={'r0_1': 2, 'r1_1': 2} \n",
    "\n",
    "\n",
    "# Diverse string regex replacements for folder name\n",
    "# Example: r0_1 containing NDTiffStack will be save as r0\n",
    "string_replacements_path=[('_1', '')]\n",
    "\n",
    "# Diverse string regex replacements for file name\n",
    "string_replacements_file=[('_NDTiffStack.*', ''),\n",
    "                            (\"_bgd*\", \"\"),\n",
    "                            ('Pos', 'pos'),\n",
    "                            ]\n",
    "\n",
    "# path to the  folder to save the tiff\n",
    "folder_save = \"/media/tom/Transcend/autofish_test_stiching/\"\n"
   ],
   "id": "4f13f3de0b6863c3",
   "outputs": []
  },
  {
   "cell_type": "code",
   "execution_count": 2,
   "metadata": {},
   "source": [
    "import importlib\n",
    "from autofish_analysis.split_ndtiff_stack import  NDTiffStack_to_tiff"
   ],
   "id": "85eef0efd38fce87",
   "outputs": []
  },
  {
   "cell_type": "code",
   "execution_count": 3,
   "metadata": {},
   "source": [
    "list_exceptions = NDTiffStack_to_tiff(\n",
    "\n",
    "    path_parent = path_parent,\n",
    "    n_z = n_z,  # number of z plances\n",
    "    n_pos =n_pos,  # number of field of images\n",
    "\n",
    "    n_c_default = n_c_default,\n",
    "    n_c_dict =n_c_dict,\n",
    "\n",
    "    # Diverse string replacements\n",
    "    string_replacements_path = string_replacements_path,\n",
    "\n",
    "    string_replacements_file = string_replacements_file,\n",
    "    folder_save = folder_save\n",
    "        )"
   ],
   "id": "cae60be2036ae4d1",
   "outputs": []
  },
  {
   "cell_type": "code",
   "execution_count": 4,
   "metadata": {},
   "source": [
    "print(list_exceptions)"
   ],
   "id": "d0c3e8287c66f18",
   "outputs": []
  },
  {
   "cell_type": "code",
   "execution_count": 5,
   "metadata": {},
   "source": [
    "%cd $folder_save\n",
    "!tree"
   ],
   "id": "caa2696f5844f46",
   "outputs": []
  },
  {
   "cell_type": "code",
   "execution_count": null,
   "metadata": {},
   "source": [],
   "id": "1e33f439fed2088c",
   "outputs": []
  }
 ],
 "metadata": {
  "kernelspec": {
   "display_name": "autofish_analysis",
   "language": "python",
   "name": "autofish_analysis"
  },
  "language_info": {
   "codemirror_mode": {
    "name": "ipython",
    "version": 3
   },
   "file_extension": ".py",
   "mimetype": "text/x-python",
   "name": "python",
   "nbconvert_exporter": "python",
   "pygments_lexer": "ipython3",
   "version": "3.8.8"
  }
 },
 "nbformat": 4,
 "nbformat_minor": 5
}
