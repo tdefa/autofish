{
 "cells": [
  {
   "cell_type": "markdown",
   "metadata": {},
   "source": [
    "# Spots detection with BigFISH\n",
    "\n",
    "We run the fonction  <strong>folder_detection</strong> get the spot coordinates in all rounds and positions. The spot detection rely on the [big-fish package](https://github.com/fish-quant/big-fish)\n",
    "\n",
    "This notebook present the most simple and fast spots detection.\n",
    "\n",
    "Advanced spots detection option are availble to take into account the image specificity an possible presence of artefact.\n",
    "#### todo advanced tutorial"
   ],
   "id": "b7110b753d7e4639"
  },
  {
   "cell_type": "code",
   "execution_count": 6,
   "metadata": {},
   "source": [
    "from pathlib import Path\n",
    "import numpy as np\n",
    "import pandas as pd\n",
    "from autofish_analysis.spots_detection import folder_detection\n",
    "from autofish_analysis.utils.signal_quality import folder_signal_quality\n",
    "from autofish_analysis.utils.signal_quality import plot_spots_folder"
   ],
   "id": "454a7cee11e19d60",
   "outputs": []
  },
  {
   "cell_type": "markdown",
   "metadata": {},
   "source": [
    "### Simple spot detection \n",
    "big-fish automatically fixes a detection threshold for each the image.\n",
    "All local maxima above the threshold are considered as spots.\n",
    "\n",
    "<strong>folder_detection</strong> the spots coordiantes computes for all the images in ***folder_of_rounds*** matching regular expression parameter.\\\n",
    "It returns a dictionary such as\\\n",
    " **dico_spots[round][position] = spots_coordiante array**"
   ],
   "id": "44e1483e5fe39f84"
  },
  {
   "cell_type": "code",
   "execution_count": 7,
   "metadata": {},
   "source": [
    "\n",
    "## Path to the folder containing all the rounds\n",
    "folder_of_rounds = \"/media/tom/Transcend/autofish_test_stiching/\"\n",
    "\n",
    "#regular expression to choose rounds\n",
    "round_name_regex = \"[^r]*\" \n",
    "\n",
    "#regular expression to choose images\n",
    "image_name_regex = \"[^r]*\"\n",
    "\n",
    "#regular expression to choose channel\n",
    "channel_name_regex = \"*ch0*\" \n",
    "\n",
    "### big-fish parameter\n",
    "min_distance=(4, 4, 4)\n",
    "scale_xy=0.103\n",
    "scale_z=0.300\n",
    "sigma = 1.35\n"
   ],
   "id": "19844e742ef3c1a8",
   "outputs": []
  },
  {
   "cell_type": "code",
   "execution_count": 8,
   "metadata": {
    "scrolled": true
   },
   "source": [
    "\n",
    "dict_spots, dict_threshold = folder_detection(\n",
    "                    folder_of_rounds = folder_of_rounds,\n",
    "                    round_name_regex = round_name_regex,\n",
    "                    image_name_regex = image_name_regex,\n",
    "                    channel_name_regex = channel_name_regex,\n",
    "                    min_distance=min_distance,\n",
    "                    scale_xy=scale_xy,\n",
    "                    scale_z=scale_z,\n",
    "                    sigma = sigma)\n",
    "\n",
    "np.save(Path(folder_of_rounds) / \"dict_spots\", dict_spots)"
   ],
   "id": "660f21e8827854b7",
   "outputs": []
  },
  {
   "cell_type": "markdown",
   "metadata": {},
   "source": [
    "### Qualitative analysis of spots detection and signal with plots\n",
    "\n",
    "\n"
   ],
   "id": "80a27024e3efdf54"
  },
  {
   "cell_type": "code",
   "execution_count": 24,
   "metadata": {},
   "source": [
    "\n",
    "folder_save= folder_of_rounds + 'figure/spots' ## folder to save images\n",
    "\n",
    "plot_spots_folder(dict_spots,\n",
    "                    round_folder_path = folder_of_rounds,\n",
    "                    round_name_regex=round_name_regex,\n",
    "                    image_name_regex=image_name_regex,\n",
    "                    channel_name_regex=channel_name_regex,\n",
    "                    file_extension = \".ti\",\n",
    "                    spot_size = 5,\n",
    "                 figsize=(20, 20),\n",
    "                  folder_save= folder_save)"
   ],
   "id": "e8f198d91d9e85c0",
   "outputs": []
  },
  {
   "cell_type": "markdown",
   "metadata": {},
   "source": [
    "## Quantitative signal quality analysis\n",
    "\n",
    "We can compute for all rounds and all images the spot intensity, signal-noise-ratio (SNR), and the background intensity. It usefulls to quantitatively assess the  signal quality\n"
   ],
   "id": "43ea60b94c5afd1a"
  },
  {
   "cell_type": "code",
   "execution_count": 5,
   "metadata": {
    "scrolled": true
   },
   "source": [
    "\n",
    "dict_spots = np.load(Path(folder_of_rounds) /   \"dict_spots.npy\",\n",
    "                     allow_pickle = True).item()\n",
    "\n",
    "\n",
    "round_name_regex = \"[^r]*\" #regular expression to choose round\n",
    "image_name_regex = \"[^r]*\"#regular expression to choose images\n",
    "channel_name_regex = \"*ch0*\" #regular expression to choose channel\n",
    "voxel_size=[270, 108, 108],\n",
    "spot_radius=900\n",
    "compute_sym = False ## compute the symmetrie coefficient of each spots (take much more time)\n",
    "\n",
    "\n",
    "df = folder_signal_quality(\n",
    "                            dict_spots,\n",
    "                            folder_of_rounds = folder_of_rounds,\n",
    "                            round_name_regex=round_name_regex,\n",
    "                            image_name_regex=image_name_regex,\n",
    "                            channel_name_regex=channel_name_regex,\n",
    "                            file_extension = \".tif\",\n",
    "                            spot_radius=spot_radius,\n",
    "                            compute_sym = compute_sym,\n",
    "                             )\n",
    "df"
   ],
   "id": "dc6741a2e7869c49",
   "outputs": []
  },
  {
   "cell_type": "code",
   "execution_count": null,
   "metadata": {},
   "source": [
    "df"
   ],
   "id": "4535feee34b0015f",
   "outputs": []
  }
 ],
 "metadata": {
  "kernelspec": {
   "display_name": "autofish_analysis",
   "language": "python",
   "name": "autofish_analysis"
  },
  "language_info": {
   "codemirror_mode": {
    "name": "ipython",
    "version": 3
   },
   "file_extension": ".py",
   "mimetype": "text/x-python",
   "name": "python",
   "nbconvert_exporter": "python",
   "pygments_lexer": "ipython3",
   "version": "3.8.8"
  }
 },
 "nbformat": 4,
 "nbformat_minor": 5
}
