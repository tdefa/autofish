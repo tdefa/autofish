{
 "cells": [
  {
   "cell_type": "markdown",
   "metadata": {},
   "source": [
    "# Spots assignement\n",
    "\n",
    "Optionaly if a cell or nucleus segmentation was applied to the data. Spots of the different round can  be assigned to a cell/nucleus. \n",
    "\n",
    "Hence, in a final next step, the output of autoFISH can be formated in a Anndata, compatible with the [anndata](https://anndata.readthedocs.io/en/latest/) / [scverse](https://spatialdata.scverse.org/) environement \n",
    "\n"
   ],
   "id": "1e4121d648195c8a"
  },
  {
   "cell_type": "code",
   "execution_count": 1,
   "metadata": {},
   "source": [
    "from autofish_analysis.registration import spots_assignement\n",
    "from pathlib import Path\n",
    "import numpy as np"
   ],
   "id": "9600a783eb2bb096",
   "outputs": []
  },
  {
   "cell_type": "code",
   "execution_count": 3,
   "metadata": {},
   "source": [
    "\n",
    "## Path to the folder containing all the round\n",
    "folder_of_rounds = \"/media/tom/Transcend/autofish_test_stiching/\"\n",
    "dict_spots_registered_df = np.load(Path(folder_of_rounds) / \"dict_spots_registered_df_r1.npy\",\n",
    "                                   allow_pickle = True).item()\n",
    "path_to_masks = Path(folder_of_rounds) / \"segmentation_mask\"\n",
    "######### if youdid not  stitch your image:\n",
    "#path_to_masks =Path(folder_of_rounds) / \"segmentation_mask\"\n",
    "files_mask_extension = \"*.npy*\"\n",
    "\n",
    "## if stitching was perform\n",
    "stitched = True"
   ],
   "id": "9460e41964ca9e85",
   "outputs": []
  },
  {
   "cell_type": "code",
   "execution_count": 4,
   "metadata": {
    "scrolled": true
   },
   "source": [
    "dict_spots_registered_df = spots_assignement(dict_spots_registered_df,\n",
    "path_to_masks = path_to_masks,\n",
    "files_mask_extension = \"*.tif*\",\n",
    "in_place = False)"
   ],
   "id": "866b644f22ab55ba",
   "outputs": []
  },
  {
   "cell_type": "code",
   "execution_count": 8,
   "metadata": {},
   "source": [
    "dict_spots_registered_df[\"pos0\"]"
   ],
   "id": "8ef9b73f0daa449b",
   "outputs": []
  },
  {
   "cell_type": "code",
   "execution_count": 7,
   "metadata": {},
   "source": [
    "\n",
    "np.save(Path(folder_of_rounds) / \"dict_spots_registered_df_r1_with_cell.npy\",\n",
    "                                   dict_spots_registered_df)"
   ],
   "id": "61fa6c00bde2bf5d",
   "outputs": []
  },
  {
   "cell_type": "code",
   "execution_count": null,
   "metadata": {},
   "source": [],
   "id": "1cef823f433b63fd",
   "outputs": []
  }
 ],
 "metadata": {
  "kernelspec": {
   "display_name": "bigfish38_samm",
   "language": "python",
   "name": "bigfish38_samm"
  },
  "language_info": {
   "codemirror_mode": {
    "name": "ipython",
    "version": 3
   },
   "file_extension": ".py",
   "mimetype": "text/x-python",
   "name": "python",
   "nbconvert_exporter": "python",
   "pygments_lexer": "ipython3",
   "version": "3.8.8"
  }
 },
 "nbformat": 4,
 "nbformat_minor": 5
}
