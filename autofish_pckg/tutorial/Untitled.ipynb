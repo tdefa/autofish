{
 "cells": [
  {
   "cell_type": "code",
   "execution_count": 1,
   "id": "95a0f4d5",
   "metadata": {},
   "source": [
    "import napari"
   ],
   "outputs": []
  },
  {
   "cell_type": "code",
   "execution_count": 2,
   "id": "88c89daf",
   "metadata": {},
   "source": [
    "import numpy as np"
   ],
   "outputs": []
  },
  {
   "cell_type": "code",
   "execution_count": 3,
   "id": "1675f289",
   "metadata": {},
   "source": [
    "import tifffile\n"
   ],
   "outputs": []
  },
  {
   "cell_type": "code",
   "execution_count": 4,
   "id": "be0c0ed0",
   "metadata": {},
   "source": [
    "img = tifffile.imread('/home/tom/Bureau/2023-10-06_LUSTRA/r1/r1_pos0_ch0.tif')\n",
    "arr = np.load('/home/tom/Bureau/2023-10-06_LUSTRA/detection_5janv_r1/spots_array.npy')\n",
    "dict_spots = np.load('/home/tom/Bureau/2023-10-06_LUSTRA/26_oct_dico_spots_local_detection0_[^r]1*_mask_artefact0_1_remove_non_sym0.npy',\n",
    "                     allow_pickle=True).item()"
   ],
   "outputs": []
  },
  {
   "cell_type": "code",
   "execution_count": 5,
   "id": "ae92928f",
   "metadata": {},
   "source": [
    "\n",
    "\n",
    "viewer = napari.viewer.Viewer()\n",
    "\n",
    "viewer.add_image(img, name='rna')\n",
    "# viewer.add_image(img_dapi, name='rna')\n",
    "\n",
    "viewer.add_points(dict_spots['r1']['r1_pos0_ch0.tif'], name='spots',\n",
    "                  face_color='red', edge_color='red', size=5)"
   ],
   "outputs": []
  },
  {
   "cell_type": "code",
   "execution_count": 5,
   "id": "a43c03e2",
   "metadata": {},
   "source": [
    "\n",
    "img = tifffile.imread('/home/tom/Bureau/2023-10-06_LUSTRA/r1/r1_pos1_ch0.tif')\n",
    "\n",
    "viewer = napari.viewer.Viewer()\n",
    "\n",
    "viewer.add_image(img, name='rna')\n",
    "# viewer.add_image(img_dapi, name='rna')\n",
    "\n",
    "viewer.add_points(dict_spots['r1']['r1_pos1_ch0.tif'], name='spots',\n",
    "                  face_color='red', edge_color='red', size=5)"
   ],
   "outputs": []
  },
  {
   "cell_type": "code",
   "execution_count": 6,
   "id": "e1cebb60",
   "metadata": {},
   "source": [
    "\n",
    "img = tifffile.imread('/home/tom/Bureau/2023-10-06_LUSTRA/r10/r10_pos1_ch0.tif')\n",
    "\n",
    "viewer = napari.viewer.Viewer()\n",
    "\n",
    "viewer.add_image(img, name='rna')\n",
    "# viewer.add_image(img_dapi, name='rna')\n",
    "\n",
    "viewer.add_points(dict_spots['r10']['r10_pos1_ch0.tif'], name='spots',\n",
    "                  face_color='red', edge_color='red', size=5)"
   ],
   "outputs": []
  },
  {
   "cell_type": "code",
   "execution_count": 21,
   "id": "610bb62f",
   "metadata": {},
   "source": [
    "\n",
    "img = tifffile.imread('/home/tom/Bureau/2023-10-06_LUSTRA/r1/r1_pos0_ch0.tif')\n",
    "\n",
    "viewer = napari.viewer.Viewer()\n",
    "\n",
    "viewer.add_image(np.amax(img, 0), name='rna_depp')\n",
    "# viewer.add_image(img_dapi, name='rna')\n",
    "\n",
    "spot_arr = np.load('/home/tom/Bureau/2023-10-06_LUSTRA/test_polaris/test_polaris.npy')\n",
    "\n",
    "\n",
    "viewer.add_points(spot_arr[0], name='spots',\n",
    "                  face_color='red', edge_color='red', size=5)"
   ],
   "outputs": []
  },
  {
   "cell_type": "code",
   "execution_count": 20,
   "id": "7d289844",
   "metadata": {},
   "source": [
    "\n",
    "img = tifffile.imread('/home/tom/Bureau/2023-10-06_LUSTRA/r1/r1_pos_ch0.tif')\n",
    "\n",
    "viewer = napari.viewer.Viewer()\n",
    "\n",
    "viewer.add_image(np.amax(img, 0), name='rna_depp')\n",
    "# viewer.add_image(img_dapi, name='rna')\n",
    "\n",
    "spot_arr = np.load('/home/tom/Bureau/2023-10-06_LUSTRA/test_polaris/test_polaris.npy')\n",
    "spot_arr_n = np.zeros(spot_arr[0].shape)\n",
    "spot_arr_n[:,1],  spot_arr_n[:,0] =  2048 - spot_arr[0][:,1],  2048 - spot_arr[0][:,0]\n",
    "\n",
    "viewer.add_points(spot_arr_n, name='spots_t',\n",
    "                  face_color='red', edge_color='red', size=5)"
   ],
   "outputs": []
  },
  {
   "cell_type": "code",
   "execution_count": 15,
   "id": "cebc5c81",
   "metadata": {},
   "source": [
    "spot_arr[0].shape\n"
   ],
   "outputs": []
  },
  {
   "cell_type": "code",
   "execution_count": 17,
   "id": "ef5d46a1",
   "metadata": {},
   "source": [
    "img.shape"
   ],
   "outputs": []
  },
  {
   "cell_type": "markdown",
   "id": "e998a69c",
   "metadata": {},
   "source": [
    "# test polaris "
   ]
  },
  {
   "cell_type": "code",
   "execution_count": null,
   "id": "80d5a58c",
   "metadata": {},
   "source": [],
   "outputs": []
  },
  {
   "cell_type": "code",
   "execution_count": 7,
   "id": "432c3a8a",
   "metadata": {},
   "source": [
    "dict_spots = np.load('/home/tom/Bureau/2023-10-06_LUSTRA/dict_spots_polaris.npy',\n",
    "                     allow_pickle=True).item()"
   ],
   "outputs": []
  },
  {
   "cell_type": "code",
   "execution_count": 11,
   "id": "90cdc9a5",
   "metadata": {},
   "source": [
    "img = tifffile.imread('/home/tom/Bureau/2023-10-06_LUSTRA/r2/r2_pos1_ch0.tif')\n",
    "spot_arr = dict_spots['r2']['r2_pos1_ch0.tif']\n",
    "\n",
    "viewer = napari.viewer.Viewer()\n",
    "\n",
    "viewer.add_image(np.amax(img, 0), name='rna_depp')\n",
    "viewer.add_points(spot_arr[0], name='spots_t',\n",
    "                  face_color='red', edge_color='red', size=5)"
   ],
   "outputs": []
  },
  {
   "cell_type": "code",
   "execution_count": null,
   "id": "f266b57b",
   "metadata": {},
   "source": [],
   "outputs": []
  },
  {
   "cell_type": "code",
   "execution_count": null,
   "id": "4cafafb9",
   "metadata": {},
   "source": [],
   "outputs": []
  },
  {
   "cell_type": "code",
   "execution_count": null,
   "id": "4d267935",
   "metadata": {},
   "source": [],
   "outputs": []
  }
 ],
 "metadata": {
  "kernelspec": {
   "display_name": "bigfish38_napapiri",
   "language": "python",
   "name": "bigfish38_napapiri"
  },
  "language_info": {
   "codemirror_mode": {
    "name": "ipython",
    "version": 3
   },
   "file_extension": ".py",
   "mimetype": "text/x-python",
   "name": "python",
   "nbconvert_exporter": "python",
   "pygments_lexer": "ipython3",
   "version": "3.8.12"
  }
 },
 "nbformat": 4,
 "nbformat_minor": 5
}
