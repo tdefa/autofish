{
 "cells": [
  {
   "cell_type": "markdown",
   "metadata": {},
   "source": [
    "# Stiching\n",
    "\n",
    "The first step of stitching is to compute precisely the coordiante where to stitch each image. \\\n",
    "Here we use pyimage (https://github.com/imagej/pyimagej) so the stitching is integrated in our python workflow.\n"
   ],
   "id": "ba67124269576f5d"
  },
  {
   "cell_type": "code",
   "execution_count": 1,
   "metadata": {},
   "source": [
    "from pathlib import Path\n",
    "import numpy as np\n",
    "from autofish_analysis.stitching import stich_with_image_J\n",
    "from  autofish_analysis.utils.macro import STITCHING_MACRO"
   ],
   "id": "563a91558f9371a",
   "outputs": []
  },
  {
   "cell_type": "code",
   "execution_count": 3,
   "metadata": {},
   "source": [
    "\n",
    "\n",
    "## DEFINE THE IMAGE YOU WANT TO STITCH \n",
    "# the final dataset will be compose of two images of 3 positions each \n",
    "img_pos_dico = {\"img0\" : ['pos0', \"pos1\", \"pos2\"], \n",
    "                \"img1\" : ['pos6', \"pos7\", \"pos8\"]}\n",
    "\n",
    "\n",
    "#Stitching argument from imageJ https://imagej.net/plugins/image-stitching\n",
    "stitching_type = \"[Grid: snake-by-row]\"\n",
    "order = \"[Left & Down]\"\n",
    "grid_size_x =3\n",
    "grid_size_y =1\n",
    "tile_overlap = 10\n",
    "image_name = \"r1_pos{i}_ch0.tif\"\n",
    "image_path = \"/media/tom/Transcend/autofish_test_stiching/r1\"\n",
    "output_path = \"/media/tom/Transcend/autofish_test_stiching/r1\""
   ],
   "id": "69c2ed5f9d122663",
   "outputs": []
  },
  {
   "cell_type": "markdown",
   "metadata": {},
   "source": [
    "## STEP 1\n",
    "the function **stich_with_image_J** will compute the stitching coordiante for each image and save them in a .txt file in  ***output_path***."
   ],
   "id": "3f31b560852a2270"
  },
  {
   "cell_type": "code",
   "execution_count": 4,
   "metadata": {
    "scrolled": true
   },
   "source": [
    "## initialization of pyimageJ\n",
    "import imagej, scyjava\n",
    "scyjava.config.add_option('-Xmx40g')\n",
    "if \"ij\" not in vars():\n",
    "    ij = imagej.init('sc.fiji:fiji') ## initialize it only once \n"
   ],
   "id": "66b8cb39fe96cc74",
   "outputs": []
  },
  {
   "cell_type": "code",
   "execution_count": 3,
   "metadata": {
    "scrolled": false
   },
   "source": [
    "## call the stitching function \n",
    "\n",
    "stich_with_image_J(\n",
    "    ij,\n",
    "    STITCHING_MACRO = STITCHING_MACRO,\n",
    "    img_pos_dico = img_pos_dico,\n",
    "    stitching_type=\"[Grid: snake-by-row]\",\n",
    "    order=\"[Left & Down]\",\n",
    "    grid_size_x =3,\n",
    "    grid_size_y =1,\n",
    "    tile_overlap = 10,\n",
    "    image_name = \"r1_pos{i}_ch0.tif\",\n",
    "    image_path = image_path,\n",
    "    output_path = output_path)"
   ],
   "id": "eb1e7fe27be09eaf",
   "outputs": []
  },
  {
   "cell_type": "markdown",
   "metadata": {},
   "source": [
    "\n",
    "### step 2 \n",
    "Lasty we generate a dictionary containing these coordiantes for later use\\\n",
    "We parse the previous generated registered.txt file with the fonction **parse_txt_file**\\\n",
    "the stitching coordinate of each image  are store a .txt file and a dictionnary "
   ],
   "id": "4245f85229cf5c4a"
  },
  {
   "cell_type": "code",
   "execution_count": 10,
   "metadata": {
    "scrolled": true
   },
   "source": [
    "## create a dictionary of dsticinh coordinate\n",
    "from autofish_analysis.stitching import parse_txt_file\n",
    "\n",
    "dico_stich_img = {}\n",
    "for img_name in img_pos_dico: \n",
    "    path_txt = Path(output_path) / f\"TileConfiguration_{img_name}.registered.txt\"\n",
    "    dico_stitch = parse_txt_file(path_txt=path_txt,\n",
    "     image_name_regex=\"_pos\", )\n",
    "    \n",
    "    dico_stich_img[img_name] = dico_stitch\n",
    "\n",
    "np.save(\"/media/tom/Transcend/autofish_test_stiching/dict_stitch_img\", dico_stich_img)"
   ],
   "id": "b9eb4ad4f3058ebe",
   "outputs": []
  },
  {
   "cell_type": "code",
   "execution_count": 11,
   "metadata": {},
   "source": [
    "dico_stich_img"
   ],
   "id": "33df4ce0ef8ceaac",
   "outputs": []
  },
  {
   "cell_type": "code",
   "execution_count": null,
   "metadata": {},
   "source": [],
   "id": "c0c66f5d8670212c",
   "outputs": []
  }
 ],
 "metadata": {
  "kernelspec": {
   "display_name": "bigfish38_samm",
   "language": "python",
   "name": "bigfish38_samm"
  },
  "language_info": {
   "codemirror_mode": {
    "name": "ipython",
    "version": 3
   },
   "file_extension": ".py",
   "mimetype": "text/x-python",
   "name": "python",
   "nbconvert_exporter": "python",
   "pygments_lexer": "ipython3",
   "version": "3.8.8"
  }
 },
 "nbformat": 4,
 "nbformat_minor": 5
}
