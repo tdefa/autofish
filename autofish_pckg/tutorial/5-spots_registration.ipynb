{
 "cells": [
  {
   "cell_type": "markdown",
   "metadata": {},
   "source": [
    "# Spot registration\n",
    "\n",
    "Now that we have the spots coordiantes for each round, we need to align them to the same round to be able to analyse the different round all together.\n",
    "\n",
    "We use the fonction **spots_registration** to perform this task."
   ],
   "id": "bc8cec7882abb19c"
  },
  {
   "cell_type": "code",
   "execution_count": 3,
   "metadata": {},
   "source": [
    "from pathlib import Path\n",
    "import numpy as np\n",
    "\n",
    "from autofish_analysis.registration import spots_registration\n"
   ],
   "id": "c19f0ebd91bd43ed",
   "outputs": []
  },
  {
   "cell_type": "code",
   "execution_count": 4,
   "metadata": {},
   "source": [
    "## Path to the folder containing all the rounds\n",
    "folder_of_rounds = \"/media/tom/Transcend/autofish_test_stichingv1/\"\n",
    "\n",
    "### Load the previously computed dict translation and dict spots\n",
    "dict_spots = np.load(Path(folder_of_rounds) / \"dict_spots.npy\",\n",
    "                           allow_pickle=True).item()\n",
    "dict_translation = np.load \\\n",
    "    (Path(folder_of_rounds) / \"dict_translation_ref_r1.npy\",\n",
    "     allow_pickle=True).item()\n",
    "\n",
    "fixed_round_name=\"r1\" # reference round, All round  will be reference to this input\n",
    "scale_xy=0.103 #xy pixel size in um\n",
    "scale_z=0.270 #z pixel size i um"
   ],
   "id": "f89023c72eee8ec1",
   "outputs": []
  },
  {
   "cell_type": "code",
   "execution_count": 4,
   "metadata": {
    "scrolled": true
   },
   "source": [
    "dict_spots_registered_df, dict_spots_registered, missing_data = spots_registration(\n",
    "                            dict_spots = dict_spots,\n",
    "                           dict_translation = dict_translation,\n",
    "                           fixed_round_name=fixed_round_name,\n",
    "                           threshold_merge_limit=0.330,\n",
    "                           scale_xy=0.103,\n",
    "                           scale_z=0.270,\n",
    "                           )\n",
    "np.save(Path(folder_of_rounds) / f'dict_spots_registered_df_{fixed_round_name}', \n",
    "        dict_spots_registered_df)\n",
    "np.save(Path(folder_of_rounds) / f'dict_spots_registered_{fixed_round_name}', \n",
    "        dict_spots_registered)"
   ],
   "id": "52b7e3399258d2af",
   "outputs": []
  },
  {
   "cell_type": "markdown",
   "metadata": {},
   "source": [
    "**spots_registration** returns a dictionary of dataframe. One dataframe for each position.\n",
    "The dataframes contain the aligned spot coordinates with the fixed round\n",
    "\n",
    "It returns also a dictionnary with the same information presented as\n",
    "\n",
    "dict_spots_registered[round][position] = registered spots array\n"
   ],
   "id": "548dc7d8678a70c4"
  },
  {
   "cell_type": "code",
   "execution_count": 6,
   "metadata": {},
   "source": [
    "dict_spots_registered_df = np.load(Path(folder_of_rounds) / f'dict_spots_registered_df_{fixed_round_name}.npy', \n",
    "        allow_pickle = True).item()\n",
    "dict_spots_registered_df['pos0']"
   ],
   "id": "24117b9f8cae4818",
   "outputs": []
  },
  {
   "cell_type": "code",
   "execution_count": null,
   "metadata": {},
   "source": [],
   "id": "cb9399fab8821030",
   "outputs": []
  }
 ],
 "metadata": {
  "kernelspec": {
   "display_name": "bigfish38_samm",
   "language": "python",
   "name": "bigfish38_samm"
  },
  "language_info": {
   "codemirror_mode": {
    "name": "ipython",
    "version": 3
   },
   "file_extension": ".py",
   "mimetype": "text/x-python",
   "name": "python",
   "nbconvert_exporter": "python",
   "pygments_lexer": "ipython3",
   "version": "3.8.8"
  }
 },
 "nbformat": 4,
 "nbformat_minor": 5
}
