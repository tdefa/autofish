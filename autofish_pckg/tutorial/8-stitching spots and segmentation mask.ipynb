{
 "cells": [
  {
   "cell_type": "markdown",
   "metadata": {},
   "source": [
    "## Stiching Python object\n",
    "\n",
    "- We use the previously stiching coordinates to stitch the segmented cells from segmentation masks of each position\n",
    "- We use the previously stiching coordinates to stitch the detected point cloud of each round to ensure not counting twice the same spots\n",
    "\n",
    "- For visualisation purposes it also possible to stitch fish signal images\n"
   ],
   "id": "2d4d6ac99f02fe8"
  },
  {
   "cell_type": "markdown",
   "metadata": {},
   "source": [
    "## Stitching of segmentation mask\n",
    "\n",
    "Cell of each position was segmented independly for memory optmization. When stitching the segmentation mask, the overlapping cells from different position are merged.\\\n",
    "When merging segmented cells, their instance cell segmentation ID changes from the one from the local position mask to the global stitched mask.\n",
    "\n",
    "The fonction **stich_segmask** will stitch segmentation mask using coordinate previously computed\n",
    "\n",
    "**stich_segmask** saves the new stitched mask in a separated folder and returns a dataframe indicating the correspondance between instance cell segmentation ID between till masks and stitched masks"
   ],
   "id": "69c44ff149e6e000"
  },
  {
   "cell_type": "code",
   "execution_count": 1,
   "metadata": {},
   "source": [
    "import numpy as np\n",
    "from pathlib import Path\n",
    "from autofish_analysis.stitching import stich_segmask"
   ],
   "id": "11053dbaf54c01d0",
   "outputs": []
  },
  {
   "cell_type": "code",
   "execution_count": 2,
   "metadata": {},
   "source": [
    "## Path to the folder containing all the rounds\n",
    "folder_of_rounds = \"/media/tom/Transcend/autofish_test_stiching/\"\n",
    "\n",
    "## path to the mask of the position tiles\n",
    "path_mask = \"/media/tom/Transcend/autofish_test_stiching/segmentation_mask\"\n",
    "\n",
    "## indicate where to save the stiched mask\n",
    "path_to_save_mask = \"/media/tom/Transcend/autofish_test_stiching/segmentation_mask_stitch\"\n",
    "\n",
    "## overlap threshold above two cells are considered the same when stitching\n",
    "iou_threshold = 0.10 \n",
    "\n",
    "### load previously computed stitching coordinates\n",
    "dict_stitch_img = np.load(Path(folder_of_rounds) / \"dict_stitch_img.npy\",\n",
    "                          allow_pickle=True).item()\n",
    "\n",
    "## image dimention parameters\n",
    "image_shape=[38, 2048, 2048]\n",
    "nb_tiles_x=3\n",
    "nb_tiles_y=1"
   ],
   "id": "a0a06130d27dae68",
   "outputs": []
  },
  {
   "cell_type": "code",
   "execution_count": 3,
   "metadata": {},
   "source": [
    "dict_stitch_img = np.load(Path(folder_of_rounds) / \"dict_stitch_img.npy\",\n",
    "                          allow_pickle=True).item()\n",
    "df_matching_new_cell_label = stich_segmask(dict_stitch_img, \n",
    "                  path_mask = path_mask,\n",
    "                  path_to_save_mask = path_to_save_mask,\n",
    "                  image_shape=image_shape,\n",
    "                  nb_tiles_x = nb_tiles_x,\n",
    "                  nb_tiles_y=nb_tiles_y,\n",
    "                  iou_threshold = 0.10)"
   ],
   "id": "2ad98798931c1cab",
   "outputs": []
  },
  {
   "cell_type": "code",
   "execution_count": 4,
   "metadata": {},
   "source": [
    "df_matching_new_cell_label['img1']"
   ],
   "id": "ca5ee923329ab31b",
   "outputs": []
  },
  {
   "cell_type": "markdown",
   "metadata": {},
   "source": [
    "**the cell_id_local_position** is the cell ID in the orignal segmented tile at postion X\\\n",
    "**the cell_id_stitched_mask** is the cell ID in the stitched mask"
   ],
   "id": "b22c41aa0fbd69c6"
  },
  {
   "cell_type": "code",
   "execution_count": 6,
   "metadata": {},
   "source": [
    "np.save(Path(folder_of_rounds) / \"df_matching_new_cell_label.npy\", df_matching_new_cell_label)"
   ],
   "id": "c4e1cf119a262344",
   "outputs": []
  },
  {
   "cell_type": "markdown",
   "metadata": {},
   "source": [
    "## Stitching of point clouds\n",
    "\n",
    "The function **dico_spots_registered_stitch_df** stitches the point cloud from the different tiles\n"
   ],
   "id": "bdd7e2caa94e6261"
  },
  {
   "cell_type": "code",
   "execution_count": 11,
   "metadata": {},
   "source": [
    "import autofish_analysis.stitching\n",
    "importlib.reload(autofish_analysis.stitching)\n",
    "from autofish_analysis.stitching import  stich_dico_spots"
   ],
   "id": "9d65d91897210bd2",
   "outputs": []
  },
  {
   "cell_type": "code",
   "execution_count": 12,
   "metadata": {},
   "source": [
    "\n",
    "\n",
    "## define the correspondance between round and RNA species\n",
    "dict_round_gene={\n",
    "        'r1': \"gene1\",\n",
    "        'r3': \"gene2\",\n",
    "        }\n",
    "\n",
    "\n",
    "### load previously registered spots detection\n",
    "dict_spots_registered_df = np.load(Path(folder_of_rounds) / \"dict_spots_registered_df_r1_with_cell.npy\",\n",
    "                                allow_pickle=True).item()\n",
    "\n",
    "\n",
    "\n",
    "dico_spots_registered_stitch_df = stich_dico_spots(\n",
    "    dict_spots_registered_df = dict_spots_registered_df,\n",
    "                     dict_stitch_img = dict_stitch_img,\n",
    "                     dict_round_gene=dict_round_gene,\n",
    "                     image_shape=image_shape,\n",
    "                 nb_tiles_x=nb_tiles_x,\n",
    "                 nb_tiles_y=nb_tiles_y,\n",
    "                 df_matching_new_cell_label = df_matching_new_cell_label)\n",
    "\n",
    "np.save(Path(folder_of_rounds) /  \"dico_spots_registered_stitch_df.npy\",\n",
    "        dico_spots_registered_stitch_df)\n"
   ],
   "id": "3fa59bef8e13d81d",
   "outputs": []
  },
  {
   "cell_type": "code",
   "execution_count": 13,
   "metadata": {},
   "source": [
    "dico_spots_registered_stitch_df['img0']"
   ],
   "id": "8a895fa66ffa54e5",
   "outputs": []
  },
  {
   "cell_type": "markdown",
   "metadata": {},
   "source": [
    "### Stich fluorescent signal\n",
    "\n",
    "Stitching the fish images is only for vizualisation purposes as all analysis are computed on local postion tile.\n",
    "It enable to reduce computational cost. \n",
    "\n",
    "Still it is possible to stitch fish signal of the reference round using the previously computed stitching coordiante"
   ],
   "id": "7b265d8172d84b1f"
  },
  {
   "cell_type": "code",
   "execution_count": 17,
   "metadata": {},
   "source": [
    "import autofish_analysis.stitching\n",
    "importlib.reload(autofish_analysis.stitching)\n",
    "from autofish_analysis.stitching import  stich_from_dico_img"
   ],
   "id": "5a68d14c1947c7de",
   "outputs": []
  },
  {
   "cell_type": "code",
   "execution_count": 19,
   "metadata": {
    "scrolled": true
   },
   "source": [
    "image_shape=[38, 2048, 2048]\n",
    "nb_tiles_x=3\n",
    "nb_tiles_y=1\n",
    "for image_name in dict_stitch_img:\n",
    "    dict_stitch = dict_stitch_img[image_name]\n",
    "    final_masks = stich_from_dico_img(dict_stitch,\n",
    "                      path_mask = \"/media/tom/Transcend/autofish_test_stiching/r1\",\n",
    "                        regex = \"*_ch0*tif*\", ## regular expression for the images to stitch\n",
    "                        image_shape=image_shape,\n",
    "                            nb_tiles_x=nb_tiles_x,\n",
    "                            nb_tiles_y=nb_tiles_y,)\n",
    "    \n",
    "    np.save(Path(folder_of_rounds) / Path(\"/media/tom/Transcend/autofish_test_stiching/stitching_r1\") / image_name,\n",
    "            final_masks)\n"
   ],
   "id": "da70a5463dd10e80",
   "outputs": []
  },
  {
   "cell_type": "code",
   "execution_count": 22,
   "metadata": {},
   "source": [
    "from matplotlib import pyplot as plt\n",
    "from matplotlib import pyplot as plt\n",
    "from skimage.exposure import rescale_intensity\n",
    "\n",
    "\n",
    "input_img = np.amax(final_masks, 0)\n",
    "pa_ch1, pb_ch1 = np.percentile(input_img, (1, 99))\n",
    "input_img = rescale_intensity(input_img, in_range=(pa_ch1, pb_ch1), out_range=np.uint8)\n",
    "\n",
    "plt.imshow(input_img)\n"
   ],
   "id": "b02d8e36c9c26fe1",
   "outputs": []
  },
  {
   "cell_type": "code",
   "execution_count": null,
   "metadata": {},
   "source": [],
   "id": "4e8543de4b3ec951",
   "outputs": []
  },
  {
   "cell_type": "code",
   "execution_count": null,
   "metadata": {},
   "source": [],
   "id": "9c8d08e67f6a02d1",
   "outputs": []
  }
 ],
 "metadata": {
  "kernelspec": {
   "display_name": "bigfish38_samm",
   "language": "python",
   "name": "bigfish38_samm"
  },
  "language_info": {
   "codemirror_mode": {
    "name": "ipython",
    "version": 3
   },
   "file_extension": ".py",
   "mimetype": "text/x-python",
   "name": "python",
   "nbconvert_exporter": "python",
   "pygments_lexer": "ipython3",
   "version": "3.8.8"
  }
 },
 "nbformat": 4,
 "nbformat_minor": 5
}
