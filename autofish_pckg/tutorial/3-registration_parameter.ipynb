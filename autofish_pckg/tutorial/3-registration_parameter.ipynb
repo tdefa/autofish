{
 "cells": [
  {
   "cell_type": "markdown",
   "metadata": {},
   "source": [
    "# 3 - Round registration \n",
    "Images from different round might be translated of few µm.\n",
    "\n",
    "We compute translation vectors between rounds using the background signal.\n",
    "This image registration relys on the [ITK Library](https://simpleitk.org/)\n"
   ],
   "id": "1643041178f839b"
  },
  {
   "cell_type": "markdown",
   "metadata": {},
   "source": [
    "The function **folder_translation** compute all allignement translation with ***fixed_round*** for all the images in ***folder_of_rounds***\\\n",
    " The rotation angle thetha is computed but ignore in pratice as negligible\n",
    " \n",
    "***folder_translation*** returns a dictionary such as:\n",
    " \n",
    " **dict_translation[positon][fixed_round_name][target_round] = {'thetha': _, 'X translation': _ ,'Y translation': _ \n",
    " }**\n",
    "\n",
    "Where thetha is the rotation between rounds. The rotation is negligible in pratice but we still compute it as additional checking.\n",
    "\n",
    "\n"
   ],
   "id": "9f2b50c4ac2f900b"
  },
  {
   "cell_type": "code",
   "execution_count": null,
   "metadata": {},
   "source": [
    "import numpy as np\n",
    "from pathlib import Path\n",
    "import importlib\n",
    "from autofish_analysis.registration import folder_translation, spots_registration"
   ],
   "id": "54c362283ffda7e6",
   "outputs": []
  },
  {
   "cell_type": "code",
   "execution_count": null,
   "metadata": {},
   "source": [
    "##################\n",
    "#Parameters\n",
    "#####################\n",
    "\n",
    "# path to the  folder with all the rounds and tif files \n",
    "folder_of_rounds = \"/media/tom/Transcend/autofish_test_stiching/\"\n",
    "\n",
    "#all images will be registered with this round\n",
    "fixed_round_name = \"r1\" \n",
    "\n",
    "\n",
    "#regular expression to choose the channel containing the FISH\n",
    "chanel_regex = \"*ch0*\"\n",
    "\n",
    "#regular expression to choose the round to take into account\n",
    "folder_regex = \"[^r]*\"\n",
    "\n",
    "## Images are filter with a gaussian filter before registration \n",
    "sigma_gaussian_filter = 0.75 "
   ],
   "id": "fb0bc7275b6c4c3b",
   "outputs": []
  },
  {
   "cell_type": "code",
   "execution_count": null,
   "metadata": {},
   "source": [
    "dict_translation = folder_translation(folder_of_rounds=folder_of_rounds,  # works ok\n",
    "                                      fixed_round_name=fixed_round_name,\n",
    "                                      folder_regex=folder_regex,\n",
    "                                      chanel_regex=chanel_regex,\n",
    "                                      registration_repeat=5,\n",
    "                                      position_naming =True,\n",
    "                                     sigma_gaussian_filter = sigma_gaussian_filter)\n",
    "\n",
    "np.save(f\"{folder_of_rounds}/dict_translation_ref_{fixed_round_name}.npy\", dict_translation)"
   ],
   "id": "6dc777a61b149493",
   "outputs": []
  },
  {
   "cell_type": "markdown",
   "metadata": {},
   "source": [
    "## plotting function to check registration\n",
    "\n",
    "It is possible to qualitatively check the registation with a napari interactive viewer\n"
   ],
   "id": "1f1fbea5d948bd01"
  },
  {
   "cell_type": "code",
   "execution_count": 4,
   "metadata": {},
   "source": [
    "\n",
    "dict_translation = np.load(f\"{folder_of_rounds}/dict_translation_ref_{fixed_round_name}.npy\", \n",
    "                         allow_pickle = True).item()\n",
    "from autofish_analysis.registration import plot_registrered_image\n",
    "\n",
    "\n",
    "### MODIFY the path to your \n",
    "path_image1= folder_of_rounds +  \"r1/r1_pos1_ch0.tif\"\n",
    "path_image2=  folder_of_rounds + \"r3/r3_pos1_ch0.tif\"\n",
    "\n",
    "plot_registrered_image(\n",
    "    dict_translation,\n",
    "    path_image1=path_image1,\n",
    "    path_image2=path_image2,\n",
    "    plot_napari = True)"
   ],
   "id": "e2bcb39295e72c1c",
   "outputs": []
  },
  {
   "cell_type": "code",
   "execution_count": null,
   "metadata": {},
   "source": [],
   "id": "f5613e42f85aaf32",
   "outputs": []
  }
 ],
 "metadata": {
  "kernelspec": {
   "display_name": "autofish_analysis",
   "language": "python",
   "name": "autofish_analysis"
  },
  "language_info": {
   "codemirror_mode": {
    "name": "ipython",
    "version": 3
   },
   "file_extension": ".py",
   "mimetype": "text/x-python",
   "name": "python",
   "nbconvert_exporter": "python",
   "pygments_lexer": "ipython3",
   "version": "3.8.8"
  }
 },
 "nbformat": 4,
 "nbformat_minor": 5
}
